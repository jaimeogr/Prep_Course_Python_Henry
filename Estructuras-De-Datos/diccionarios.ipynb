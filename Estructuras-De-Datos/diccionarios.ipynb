{
 "cells": [
  {
   "cell_type": "code",
   "execution_count": 2,
   "metadata": {},
   "outputs": [],
   "source": [
    "mi_tupla = ('Argentina', 'Italia', 'Inglaterra')\n",
    "\n",
    "mi_diccionario = {mi_tupla[0]: 'Buenos Aires',\n",
    "                  mi_tupla[1]: 'Roma',\n",
    "                  mi_tupla[2]: 'Londres'}"
   ]
  },
  {
   "cell_type": "code",
   "execution_count": 3,
   "metadata": {},
   "outputs": [
    {
     "name": "stdout",
     "output_type": "stream",
     "text": [
      "{'Argentina': 'Buenos Aires', 'Italia': 'Roma', 'Inglaterra': 'Londres'}\n"
     ]
    }
   ],
   "source": [
    "print(mi_diccionario)"
   ]
  },
  {
   "cell_type": "code",
   "execution_count": 5,
   "metadata": {},
   "outputs": [
    {
     "name": "stdout",
     "output_type": "stream",
     "text": [
      "dict_keys(['Argentina', 'Italia', 'Inglaterra'])\n",
      "dict_values(['Buenos Aires', 'Roma', 'Londres'])\n",
      "3\n"
     ]
    }
   ],
   "source": [
    "print(mi_diccionario.keys())\n",
    "print(mi_diccionario.values())\n",
    "\n",
    "print(len(mi_diccionario))"
   ]
  }
 ],
 "metadata": {
  "kernelspec": {
   "display_name": "Python 3",
   "language": "python",
   "name": "python3"
  },
  "language_info": {
   "codemirror_mode": {
    "name": "ipython",
    "version": 3
   },
   "file_extension": ".py",
   "mimetype": "text/x-python",
   "name": "python",
   "nbconvert_exporter": "python",
   "pygments_lexer": "ipython3",
   "version": "3.11.9"
  }
 },
 "nbformat": 4,
 "nbformat_minor": 2
}
