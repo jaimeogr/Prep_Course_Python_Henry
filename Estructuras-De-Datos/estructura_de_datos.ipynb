{
 "cells": [
  {
   "cell_type": "code",
   "execution_count": 2,
   "metadata": {},
   "outputs": [
    {
     "name": "stdout",
     "output_type": "stream",
     "text": [
      "<class 'tuple'>\n",
      "22\n",
      "agosto\n",
      "1999\n"
     ]
    }
   ],
   "source": [
    "##tuplas. las tuplas tienen valores inmutables\n",
    "\n",
    "date = (22,\"agosto\",1999)\n",
    "\n",
    "print(type(date))\n",
    "\n",
    "uno,dos,tres = date\n",
    "\n",
    "print(uno)\n",
    "print(dos)\n",
    "print(tres)"
   ]
  },
  {
   "cell_type": "code",
   "execution_count": 3,
   "metadata": {},
   "outputs": [
    {
     "ename": "ValueError",
     "evalue": "too many values to unpack (expected 2)",
     "output_type": "error",
     "traceback": [
      "\u001b[1;31m---------------------------------------------------------------------------\u001b[0m",
      "\u001b[1;31mValueError\u001b[0m                                Traceback (most recent call last)",
      "Cell \u001b[1;32mIn[3], line 1\u001b[0m\n\u001b[1;32m----> 1\u001b[0m one, two \u001b[38;5;241m=\u001b[39m date \u001b[38;5;66;03m##exoected error cause tuple structure is not being satisfied\u001b[39;00m\n",
      "\u001b[1;31mValueError\u001b[0m: too many values to unpack (expected 2)"
     ]
    }
   ],
   "source": [
    "one, two = date ##exoected error cause tuple structure is not being satisfied"
   ]
  },
  {
   "cell_type": "code",
   "execution_count": null,
   "metadata": {},
   "outputs": [
    {
     "ename": "ValueError",
     "evalue": "not enough values to unpack (expected 4, got 3)",
     "output_type": "error",
     "traceback": [
      "\u001b[1;31m---------------------------------------------------------------------------\u001b[0m",
      "\u001b[1;31mValueError\u001b[0m                                Traceback (most recent call last)",
      "Cell \u001b[1;32mIn[6], line 1\u001b[0m\n\u001b[1;32m----> 1\u001b[0m one,two,three,four \u001b[38;5;241m=\u001b[39m date \u001b[38;5;66;03m##exoected error cause tuple structure is not being satisfied\u001b[39;00m\n",
      "\u001b[1;31mValueError\u001b[0m: not enough values to unpack (expected 4, got 3)"
     ]
    }
   ],
   "source": [
    "one,two,three,four = date ##exoected error cause tuple structure is not being satisfied"
   ]
  },
  {
   "cell_type": "code",
   "execution_count": 6,
   "metadata": {},
   "outputs": [
    {
     "name": "stdout",
     "output_type": "stream",
     "text": [
      "7\n",
      "9\n"
     ]
    }
   ],
   "source": [
    "tupla_impares = (1,3,5,7,9)\n",
    "\n",
    "cuarto = 0\n",
    "\n",
    "quinto = 0\n",
    "\n",
    "\n",
    "_,_,_, cuarto, quinto = tupla_impares ##en minuto 11:30 menciona guion bajos pero pone espacios lo que puede confundir a alguien y generar problemas. habla bien pero lo hacen mal en el video al programar\n",
    "\n",
    "print(cuarto)\n",
    "\n",
    "print(quinto)"
   ]
  },
  {
   "cell_type": "code",
   "execution_count": 7,
   "metadata": {},
   "outputs": [
    {
     "name": "stdout",
     "output_type": "stream",
     "text": [
      "[1, 3, 5, 7, 9]\n"
     ]
    }
   ],
   "source": [
    "lista_impares = list(tupla_impares)\n",
    "\n",
    "print(lista_impares)"
   ]
  },
  {
   "cell_type": "code",
   "execution_count": 8,
   "metadata": {},
   "outputs": [
    {
     "name": "stdout",
     "output_type": "stream",
     "text": [
      "(1, 3, 5, 7, 9)\n"
     ]
    }
   ],
   "source": [
    "nueva_tupla = tuple(lista_impares)\n",
    "\n",
    "print(nueva_tupla)"
   ]
  },
  {
   "cell_type": "code",
   "execution_count": 21,
   "metadata": {},
   "outputs": [
    {
     "name": "stdout",
     "output_type": "stream",
     "text": [
      "[1, 3, 5, 7, 9]\n",
      "[1, 3]\n",
      "[5, 7, 9]\n",
      "[1, 3, 5, 7, 9, 15]\n",
      "[1, 3, 5, 7, 9, 15, 23, 49, 53, 69]\n",
      "[1, 3, 5, 7, 9, 15, 23, 49, 53]\n"
     ]
    },
    {
     "data": {
      "text/plain": [
       "5"
      ]
     },
     "execution_count": 21,
     "metadata": {},
     "output_type": "execute_result"
    }
   ],
   "source": [
    "lista_impares = [1,3,5,7,9]\n",
    "\n",
    "print(lista_impares)\n",
    "print(lista_impares[:2]) #no imprime el valor en el indice 2\n",
    "print(lista_impares[2:])\n",
    "\n",
    "\n",
    "lista_impares.append(15)\n",
    "print(lista_impares)\n",
    "\n",
    "lista_impares.extend((23,49,53,69))\n",
    "\n",
    "print(lista_impares)\n",
    "\n",
    "lista_impares.pop()\n",
    "\n",
    "print(lista_impares)\n",
    "\n",
    "lista_impares.index(15)\n"
   ]
  },
  {
   "cell_type": "code",
   "execution_count": 25,
   "metadata": {},
   "outputs": [
    {
     "data": {
      "text/plain": [
       "[343,\n",
       " 123,\n",
       " 67,\n",
       " 23,\n",
       " 9,\n",
       " 7,\n",
       " 6,\n",
       " 5,\n",
       " 3,\n",
       " 3,\n",
       " 3,\n",
       " 2,\n",
       " 2,\n",
       " 1,\n",
       " 1,\n",
       " 343,\n",
       " 123,\n",
       " 67,\n",
       " 23,\n",
       " 9,\n",
       " 7,\n",
       " 6,\n",
       " 5,\n",
       " 3,\n",
       " 3,\n",
       " 3,\n",
       " 2,\n",
       " 2,\n",
       " 1,\n",
       " 1,\n",
       " 343,\n",
       " 123,\n",
       " 67,\n",
       " 23,\n",
       " 9,\n",
       " 7,\n",
       " 6,\n",
       " 5,\n",
       " 3,\n",
       " 3,\n",
       " 3,\n",
       " 2,\n",
       " 2,\n",
       " 1,\n",
       " 1]"
      ]
     },
     "execution_count": 25,
     "metadata": {},
     "output_type": "execute_result"
    }
   ],
   "source": [
    "lista_numerica = [1,3,5,7,9,23,67,343,123,1,2,3,6,3,2]\n",
    "\n",
    "lista_numerica.sort()\n",
    "\n",
    "lista_numerica.sort(reverse=True)\n",
    "\n",
    "lista_numerica*3\n",
    "\n"
   ]
  },
  {
   "cell_type": "code",
   "execution_count": 32,
   "metadata": {},
   "outputs": [
    {
     "name": "stdout",
     "output_type": "stream",
     "text": [
      "598\n",
      "1794\n"
     ]
    }
   ],
   "source": [
    "suma = False\n",
    "for num  in lista_numerica:\n",
    "    suma = suma + num\n",
    "\n",
    "print(suma)\n",
    "print(suma*3) #hace lo mismo que  el for de abajo pero de manera mas eficiente"
   ]
  },
  {
   "cell_type": "code",
   "execution_count": 33,
   "metadata": {},
   "outputs": [
    {
     "name": "stdout",
     "output_type": "stream",
     "text": [
      "1794\n"
     ]
    }
   ],
   "source": [
    "suma2 = False\n",
    "for num  in lista_numerica*3:\n",
    "    suma2 = suma2 + num\n",
    "\n",
    "print(suma2)"
   ]
  },
  {
   "cell_type": "code",
   "execution_count": 34,
   "metadata": {},
   "outputs": [
    {
     "data": {
      "text/plain": [
       "[343, 123, 67, 23, 9, 7, 6, 5, 3, 3, 3, 2, 2, 1, 1, 99, 990]"
      ]
     },
     "execution_count": 34,
     "metadata": {},
     "output_type": "execute_result"
    }
   ],
   "source": [
    "lista_numerica + [99,990]"
   ]
  },
  {
   "cell_type": "code",
   "execution_count": 38,
   "metadata": {},
   "outputs": [
    {
     "name": "stdout",
     "output_type": "stream",
     "text": [
      "[343, 123, 67, 23, 9, 7, 6, 5, 3, 3, 3, 2, 2, 1, 1, [99, 990], [99, 990], [99, 990], [99, 990]]\n",
      "[343, 123, 67, 23, 9, 7, 6, 5, 3, 3, 3, 2, 2, 1, 1, [99, 990], [99, 990], [99, 990], [99, 990], 99, 990]\n"
     ]
    }
   ],
   "source": [
    "lista_numerica.append([99,990])\n",
    "print(lista_numerica)\n",
    "\n",
    "lista_numerica.extend([99,990])\n",
    "print(lista_numerica)"
   ]
  }
 ],
 "metadata": {
  "kernelspec": {
   "display_name": "Python 3",
   "language": "python",
   "name": "python3"
  },
  "language_info": {
   "codemirror_mode": {
    "name": "ipython",
    "version": 3
   },
   "file_extension": ".py",
   "mimetype": "text/x-python",
   "name": "python",
   "nbconvert_exporter": "python",
   "pygments_lexer": "ipython3",
   "version": "3.11.9"
  }
 },
 "nbformat": 4,
 "nbformat_minor": 2
}
