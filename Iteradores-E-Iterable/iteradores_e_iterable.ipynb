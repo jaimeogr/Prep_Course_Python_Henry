{
 "cells": [
  {
   "cell_type": "code",
   "execution_count": 4,
   "metadata": {},
   "outputs": [
    {
     "name": "stdout",
     "output_type": "stream",
     "text": [
      "1\n",
      "3\n",
      "5\n",
      "7\n",
      "9\n"
     ]
    }
   ],
   "source": [
    "numeros = [1,3,5,7,9]\n",
    "\n",
    "for n in numeros:\n",
    "    print(n)"
   ]
  },
  {
   "cell_type": "code",
   "execution_count": 7,
   "metadata": {},
   "outputs": [
    {
     "name": "stdout",
     "output_type": "stream",
     "text": [
      "<class 'enumerate'>\n",
      "(0, 'C')\n",
      "(1, 'a')\n",
      "(2, 'm')\n",
      "(3, 'i')\n",
      "(4, 'l')\n",
      "(5, 'a')\n"
     ]
    }
   ],
   "source": [
    "cadena='Camila'\n",
    "print(type(enumerate(cadena))) #return an 'enumerate' object\n",
    "for c in enumerate(cadena): \n",
    "    print(c) ##each item is a tuple"
   ]
  },
  {
   "cell_type": "code",
   "execution_count": 3,
   "metadata": {},
   "outputs": [
    {
     "data": {
      "text/plain": [
       "True"
      ]
     },
     "execution_count": 3,
     "metadata": {},
     "output_type": "execute_result"
    }
   ],
   "source": [
    "from collections.abc import Iterable\n",
    "cadena='Cami'\n",
    "numero=9\n",
    "\n",
    "isinstance(cadena, Iterable)\n"
   ]
  },
  {
   "cell_type": "code",
   "execution_count": 2,
   "metadata": {},
   "outputs": [
    {
     "data": {
      "text/plain": [
       "False"
      ]
     },
     "execution_count": 2,
     "metadata": {},
     "output_type": "execute_result"
    }
   ],
   "source": [
    "isinstance(numero, Iterable)\n"
   ]
  },
  {
   "cell_type": "code",
   "execution_count": 8,
   "metadata": {},
   "outputs": [
    {
     "name": "stdout",
     "output_type": "stream",
     "text": [
      "['H', 'e', 'n', 'r', 'y']\n"
     ]
    }
   ],
   "source": [
    "print(list('Henry'))"
   ]
  },
  {
   "cell_type": "code",
   "execution_count": 9,
   "metadata": {},
   "outputs": [
    {
     "name": "stdout",
     "output_type": "stream",
     "text": [
      "6\n"
     ]
    }
   ],
   "source": [
    "print(sum([1,2,3]))"
   ]
  },
  {
   "cell_type": "code",
   "execution_count": 11,
   "metadata": {},
   "outputs": [
    {
     "name": "stdout",
     "output_type": "stream",
     "text": [
      "c-a-m-i\n"
     ]
    }
   ],
   "source": [
    "print('-'.join('cami'))"
   ]
  },
  {
   "cell_type": "code",
   "execution_count": 12,
   "metadata": {},
   "outputs": [
    {
     "name": "stdout",
     "output_type": "stream",
     "text": [
      "1\n",
      "2\n",
      "3\n",
      "4\n"
     ]
    }
   ],
   "source": [
    "myDict = {1:'c', 2:'a', 3:'m', 4:'i'}\n",
    "for i in myDict:\n",
    "    print(i) #retorna las claves pero no los valores"
   ]
  },
  {
   "cell_type": "code",
   "execution_count": 23,
   "metadata": {},
   "outputs": [
    {
     "name": "stdout",
     "output_type": "stream",
     "text": [
      "cami tiene 4 letras\n",
      "cami tiene 4 letras\n",
      "cami tiene 4 letras\n",
      "cami tiene 4 letras\n"
     ]
    }
   ],
   "source": [
    "length= len('cami')\n",
    "\n",
    "print('cami tiene ' + str(length) + ' letras')\n",
    "print(f'cami tiene {length} letras')\n",
    "print('cami tiene {} letras'.format(length))\n",
    "print('cami tiene %d letras' %length)"
   ]
  }
 ],
 "metadata": {
  "kernelspec": {
   "display_name": "Python 3",
   "language": "python",
   "name": "python3"
  },
  "language_info": {
   "codemirror_mode": {
    "name": "ipython",
    "version": 3
   },
   "file_extension": ".py",
   "mimetype": "text/x-python",
   "name": "python",
   "nbconvert_exporter": "python",
   "pygments_lexer": "ipython3",
   "version": "3.11.9"
  }
 },
 "nbformat": 4,
 "nbformat_minor": 2
}
