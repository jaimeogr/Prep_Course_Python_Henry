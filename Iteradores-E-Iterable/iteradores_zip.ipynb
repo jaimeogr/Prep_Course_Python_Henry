{
 "cells": [
  {
   "cell_type": "code",
   "execution_count": 9,
   "metadata": {},
   "outputs": [
    {
     "name": "stdout",
     "output_type": "stream",
     "text": [
      "<class 'zip'>\n",
      "<class 'tuple'>\n",
      "(1, 'a')\n",
      "<class 'tuple'>\n",
      "(2, 'b')\n",
      "<class 'tuple'>\n",
      "(3, 'c')\n"
     ]
    }
   ],
   "source": [
    "lista1 = [1,2,3,4,5] # los valores 4 y 5 no van a ser combinados porque no hay suficientes valores dentro de lo que es lista2\n",
    "lista2 = ['a', 'b', 'c']\n",
    "\n",
    "combinacion = zip(lista1, lista2)\n",
    "\n",
    "print(type(combinacion))\n",
    "\n",
    "for i in combinacion:\n",
    "    print(type(i)) #each combination is a tuple\n",
    "    print(i)"
   ]
  }
 ],
 "metadata": {
  "kernelspec": {
   "display_name": "Python 3",
   "language": "python",
   "name": "python3"
  },
  "language_info": {
   "codemirror_mode": {
    "name": "ipython",
    "version": 3
   },
   "file_extension": ".py",
   "mimetype": "text/x-python",
   "name": "python",
   "nbconvert_exporter": "python",
   "pygments_lexer": "ipython3",
   "version": "3.11.9"
  }
 },
 "nbformat": 4,
 "nbformat_minor": 2
}
